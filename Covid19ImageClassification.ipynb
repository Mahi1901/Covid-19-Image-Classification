{
 "cells": [
  {
   "cell_type": "code",
   "execution_count": null,
   "id": "fd363ede",
   "metadata": {},
   "outputs": [],
   "source": [
    "#Importing the libraries \n",
    "import numpy as np\n",
    "import pandas as pd\n",
    "import keras\n",
    "import tensorflow as tf\n",
    "import cv2\n",
    "from matplotlib import pyplot as plt\n",
    "from PIL import Image\n",
    "from numpy import array\n",
    "from numpy import argmax\n",
    "from sklearn.preprocessing import LabelEncoder\n",
    "from sklearn.preprocessing import OneHotEncoder"
   ]
  },
  {
   "cell_type": "code",
   "execution_count": null,
   "id": "1890504c",
   "metadata": {},
   "outputs": [],
   "source": [
    "# Loading the images and labels dataset\n",
    "testImages = np.load('covid-19-dataset/testimage.npy')\n",
    "testLabels = pd.read_csv('covid-19-dataset/testLabels.csv')\n",
    "trainImages = np.load('covid-19-dataset/trainimage.npy')\n",
    "trainLabels = pd.read_csv('covid-19-dataset/trainLabels.csv')"
   ]
  },
  {
   "cell_type": "code",
   "execution_count": null,
   "id": "53423dc4",
   "metadata": {},
   "outputs": [],
   "source": [
    "trainImages[0][0][0]"
   ]
  },
  {
   "cell_type": "code",
   "execution_count": null,
   "id": "e5b6a72f",
   "metadata": {},
   "outputs": [],
   "source": [
    "# print the sizes of array and dataframes\n",
    "print(\"Length of testImages is\",len(testImages))\n",
    "print(\"Shape of testLabels is\",testLabels.shape)\n",
    "print(\"Length of trainImages is\",len(trainImages))\n",
    "print(\"Shape of trainImages is\",trainLabels.shape)"
   ]
  },
  {
   "cell_type": "code",
   "execution_count": null,
   "id": "2888e02c",
   "metadata": {},
   "outputs": [],
   "source": [
    "# displaying the first trainImage\n",
    "plt.imshow(trainImages[0], cmap='gray')\n",
    "plt.show()"
   ]
  },
  {
   "cell_type": "code",
   "execution_count": null,
   "id": "319f81ff",
   "metadata": {},
   "outputs": [],
   "source": [
    "# displaying the first testImage\n",
    "plt.imshow(testImages[0], cmap='gray')\n",
    "plt.show()"
   ]
  },
  {
   "cell_type": "code",
   "execution_count": null,
   "id": "8a5e4002",
   "metadata": {},
   "outputs": [],
   "source": [
    "# Exploring the data - train data\n",
    "trainLabels.value_counts()"
   ]
  },
  {
   "cell_type": "code",
   "execution_count": null,
   "id": "85c7a0ab",
   "metadata": {},
   "outputs": [],
   "source": [
    "# Exploring the data - test data\n",
    "testLabels.value_counts()"
   ]
  },
  {
   "cell_type": "code",
   "execution_count": null,
   "id": "bac1237d",
   "metadata": {},
   "outputs": [],
   "source": [
    "# print unique labels in train data\n",
    "trainLabels['Label'].unique()"
   ]
  },
  {
   "cell_type": "code",
   "execution_count": null,
   "id": "66838711",
   "metadata": {},
   "outputs": [],
   "source": [
    "# print unique labels in test data\n",
    "testLabels['Label'].unique()"
   ]
  },
  {
   "cell_type": "code",
   "execution_count": null,
   "id": "81e50b97",
   "metadata": {},
   "outputs": [],
   "source": [
    "# Gaussian Blur on train image\n",
    "cv2.imwrite('images\\sampletrain.jpg', trainImages[0])\n",
    "\n",
    "im = cv2.imread('images\\sampletrain.jpg')\n",
    "\n",
    "# load image\n",
    "trainimage = Image.open('images\\sampletrain.jpg')\n",
    "\n",
    "# Gaussian Blur\n",
    "Gaussian = cv2.GaussianBlur(im, (5, 5), 0)\n",
    "\n",
    "# plot all both images using matplotlib\n",
    "fig, ax = plt.subplots(1,2)\n",
    "\n",
    "ax[0].imshow(trainimage)\n",
    "ax[1].imshow(Gaussian)\n",
    "\n",
    "ax[0].set_title(\"Original Image\")\n",
    "ax[1].set_title(\"Gaussian Blurring\")\n",
    "\n",
    "fig.tight_layout()\n",
    "plt.show()"
   ]
  },
  {
   "cell_type": "code",
   "execution_count": null,
   "id": "67399b09",
   "metadata": {},
   "outputs": [],
   "source": [
    "# Gaussian Blur on test image\n",
    "cv2.imwrite('images\\sampletest.jpg', testImages[0])\n",
    "\n",
    "im = cv2.imread('images\\sampletest.jpg')\n",
    "\n",
    "# load image\n",
    "testimage = Image.open('images\\sampletest.jpg')\n",
    "\n",
    "# Gaussian Blur\n",
    "Gaussian = cv2.GaussianBlur(im, (5, 5), 0)\n",
    "\n",
    "# plot all both images using matplotlib\n",
    "fig, ax = plt.subplots(1,2)\n",
    "\n",
    "ax[0].imshow(testimage)\n",
    "ax[1].imshow(Gaussian)\n",
    "\n",
    "ax[0].set_title(\"Original Image\")\n",
    "ax[1].set_title(\"Gaussian Blurring\")\n",
    "\n",
    "fig.tight_layout()\n",
    "plt.show()\n"
   ]
  },
  {
   "cell_type": "code",
   "execution_count": null,
   "id": "48b106cb",
   "metadata": {},
   "outputs": [],
   "source": [
    "# Normalization of train data \n",
    "from numpy import asarray\n",
    "pixels = asarray(trainimage)\n",
    "# confirm pixel range is 0-255\n",
    "print('Data Type: %s' % pixels.dtype)\n",
    "print('Min: %.3f, Max: %.3f' % (pixels.min(), pixels.max()))\n",
    "# convert from integers to floats\n",
    "pixels = pixels.astype('float32')\n",
    "# normalize to the range 0-1\n",
    "pixels /= 255.0\n",
    "# confirm the normalization\n",
    "print('Min: %.3f, Max: %.3f' % (pixels.min(), pixels.max()))"
   ]
  },
  {
   "cell_type": "code",
   "execution_count": null,
   "id": "051232d5",
   "metadata": {},
   "outputs": [],
   "source": [
    "# global centering (subtract mean) of train data image\n",
    "\n",
    "pixels = asarray(trainimage)\n",
    "# convert from integers to floats\n",
    "pixels = pixels.astype('float32')\n",
    "# calculate global mean\n",
    "mean = pixels.mean()\n",
    "print('Mean: %.3f' % mean)\n",
    "print('Min: %.3f, Max: %.3f' % (pixels.min(), pixels.max()))\n",
    "# global centering of pixels\n",
    "pixels = pixels - mean\n",
    "# confirm it had the desired effect\n",
    "mean = pixels.mean()\n",
    "print('Mean: %.3f' % mean)\n",
    "print('Min: %.3f, Max: %.3f' % (pixels.min(), pixels.max()))"
   ]
  },
  {
   "cell_type": "code",
   "execution_count": null,
   "id": "a0685f12",
   "metadata": {},
   "outputs": [],
   "source": [
    "norm = np.linalg.norm(trainImages)\n",
    "normal_trainImages = trainImages/norm\n",
    "print(normal_trainImages)"
   ]
  },
  {
   "cell_type": "code",
   "execution_count": null,
   "id": "41298917",
   "metadata": {},
   "outputs": [],
   "source": [
    "normal_trainImages.shape"
   ]
  },
  {
   "cell_type": "code",
   "execution_count": null,
   "id": "1a3deb22",
   "metadata": {},
   "outputs": [],
   "source": [
    "# flating the training data for dense layers\n",
    "#trainImages_1 = trainImages.reshape((trainImages.shape[0], np.prod(trainImages.shape[1:])))\n",
    "#testImages_1 = testImages.reshape((testImages.shape[0], np.prod(testImages.shape[1:])))\n",
    "trainImages_1 = trainImages.reshape((trainImages.shape[0],-1))\n",
    "testImages_1 = testImages.reshape((testImages.shape[0],-1))\n",
    "\n",
    "trainLabels_x = np.array(trainLabels)\n",
    "testLabels_x = np.array(testLabels)\n",
    "\n",
    "trainLabels_1 = trainLabels_x.reshape((trainLabels_x.shape[0]))\n",
    "testLabels_1 = testLabels_x.reshape((testLabels_x.shape[0]))\n",
    "\n",
    "print(trainImages_1.shape)\n",
    "print(testImages_1.shape)\n",
    "print(trainLabels_1.shape)\n",
    "print(testLabels_1.shape)"
   ]
  },
  {
   "cell_type": "code",
   "execution_count": null,
   "id": "d722e72a",
   "metadata": {},
   "outputs": [],
   "source": [
    "# integer encode\n",
    "label_encoder = LabelEncoder()\n",
    "integer_encoded = label_encoder.fit_transform(trainLabels_1)\n",
    "print(integer_encoded.shape)\n",
    "\n",
    "# binary encode\n",
    "onehot_encoder = OneHotEncoder(sparse=False)\n",
    "integer_encoded = integer_encoded.reshape(len(integer_encoded),-1)\n",
    "onehot_encoded = onehot_encoder.fit_transform(integer_encoded)\n",
    "print(onehot_encoded.shape)"
   ]
  },
  {
   "cell_type": "code",
   "execution_count": null,
   "id": "2d347855",
   "metadata": {},
   "outputs": [],
   "source": [
    "# integer encode\n",
    "label_encoder = LabelEncoder()\n",
    "integer_encoded = label_encoder.fit_transform(testLabels_1)\n",
    "print(integer_encoded.shape)\n",
    "\n",
    "# binary encode\n",
    "onehot_encoder = OneHotEncoder(sparse=False)\n",
    "integer_encoded = integer_encoded.reshape(len(integer_encoded),-1)\n",
    "t_onehot_encoded = onehot_encoder.fit_transform(integer_encoded)\n",
    "print(t_onehot_encoded.shape)"
   ]
  },
  {
   "cell_type": "code",
   "execution_count": null,
   "id": "e370fee8",
   "metadata": {},
   "outputs": [],
   "source": [
    "from tensorflow.keras import utils, datasets, layers, models\n",
    "model_1 = models.Sequential()\n",
    "model_1.add(layers.Dense(10, activation='softmax', input_shape=(trainImages.shape[0],trainImages.shape[1])))\n",
    "model_1.compile(loss='binary_crossentropy', optimizer='adam', metrics=['accuracy'])\n",
    "model_1.summary()"
   ]
  },
  {
   "cell_type": "code",
   "execution_count": null,
   "id": "9a4c01c9",
   "metadata": {},
   "outputs": [],
   "source": [
    "print(trainImages_1.shape[0])\n",
    "print(onehot_encoded.shape)"
   ]
  },
  {
   "cell_type": "code",
   "execution_count": null,
   "id": "98024a0e",
   "metadata": {},
   "outputs": [],
   "source": [
    "# compile the model and train it for 5 epochs\n",
    "model_1.compile(optimizer='adam',\n",
    "              loss='sparse_categorical_crossentropy',\n",
    "              metrics=['accuracy'])\n",
    "\n",
    "train_data = tf.data.Dataset.from_tensor_slices((trainImages_1, onehot_encoded))\n",
    "valid_data = tf.data.Dataset.from_tensor_slices((testImages_1, t_onehot_encoded))\n",
    "\n",
    "history = model_1.fit(train_data, epochs=150, validation_data=valid_data)"
   ]
  },
  {
   "cell_type": "code",
   "execution_count": null,
   "id": "23ba1047",
   "metadata": {},
   "outputs": [],
   "source": [
    "# Evaluate model\n",
    "model_1.evaluate(trainImages_1, onehot_encoded), model_1.evaluate(testImages_1, t_onehot_encoded)"
   ]
  },
  {
   "cell_type": "code",
   "execution_count": null,
   "id": "07943db3",
   "metadata": {},
   "outputs": [],
   "source": [
    "predictions = model_1.predict_classes(testImages_1)\n",
    "for i in (2,3,33,36,59):\n",
    "    print('%s => %d (expected %d)' % (testImages_1[i].tolist(), predictions[i], t_onehot_encoded[i]))"
   ]
  },
  {
   "cell_type": "code",
   "execution_count": null,
   "id": "c8043f36",
   "metadata": {},
   "outputs": [],
   "source": [
    "# val_loss\n",
    "# acc\n",
    "plt.plot(history.history['accuracy'])\n",
    "plt.plot(history.history['val_accuracy'])\n",
    "\n",
    "plt.title('model accuracy')\n",
    "plt.ylabel('accuracy')\n",
    "plt.xlabel('epoch')\n",
    "plt.legend(['train', 'test'], loc='upper left')"
   ]
  },
  {
   "cell_type": "code",
   "execution_count": null,
   "id": "9d17f360",
   "metadata": {},
   "outputs": [],
   "source": [
    "plt.plot(history.history['loss'])\n",
    "plt.plot(history.history['val_loss'])\n",
    "plt.title('model loss')\n",
    "plt.ylabel('loss')\n",
    "plt.xlabel('epoch')\n",
    "plt.legend(['train', 'test'], loc='upper left')\n",
    "plt.ylim((0,2))"
   ]
  }
 ],
 "metadata": {
  "kernelspec": {
   "display_name": "Python 3",
   "language": "python",
   "name": "python3"
  },
  "language_info": {
   "codemirror_mode": {
    "name": "ipython",
    "version": 3
   },
   "file_extension": ".py",
   "mimetype": "text/x-python",
   "name": "python",
   "nbconvert_exporter": "python",
   "pygments_lexer": "ipython3",
   "version": "3.8.8"
  }
 },
 "nbformat": 4,
 "nbformat_minor": 5
}
